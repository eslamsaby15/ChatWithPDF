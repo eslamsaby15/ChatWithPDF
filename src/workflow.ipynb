{
 "cells": [
  {
   "cell_type": "markdown",
   "id": "36f15d59",
   "metadata": {},
   "source": [
    "# Introduction\n",
    "\n",
    "A simple **Chat-with-Multi PDFs / Docs** app for **Retrieval-Augmented Generation (RAG)**.  \n",
    "It allows you to ask questions about the contents of PDFs and DOC files, and the app will provide relevant responses.\n",
    "\n",
    "![Chatbot Diagram](../src/images/graphWorkFlow.jpg)\n",
    "\n",
    "This app is built using [**LangGraph**](https://www.langchain.com/langgraph) and [**LangChain**](https://www.langchain.com/).\n",
    "\n"
   ]
  },
  {
   "cell_type": "code",
   "execution_count": 1,
   "id": "bb0fefeb",
   "metadata": {},
   "outputs": [],
   "source": [
    "# set Setting\n",
    "import os \n",
    "import dotenv\n",
    "from langchain.chat_models import init_chat_model\n",
    "os.environ['GOOGLE_API_KEY'] = dotenv.get_key(key_to_get='GOOGLE_API_KEY', dotenv_path='.env')\n",
    "llm = init_chat_model(model = 'gemini-2.5-flash' , model_provider='google-genai')"
   ]
  },
  {
   "cell_type": "markdown",
   "id": "7da3005b",
   "metadata": {},
   "source": [
    "# A. Preprocess documents\n",
    "\n",
    "- In this step we read files to get the full text and split them into small chunks and embed them to store in Vectore DataBase.\n"
   ]
  },
  {
   "cell_type": "markdown",
   "id": "f5748e75",
   "metadata": {},
   "source": [
    "##### 1) Reading Files using PyPDF2 to extract text from pdf"
   ]
  },
  {
   "cell_type": "code",
   "execution_count": 2,
   "id": "845de5f3",
   "metadata": {},
   "outputs": [],
   "source": [
    "from PyPDF2 import PdfReader\n",
    "\n",
    "def get_content_pages(files:  list[str]) -> str:\n",
    "    \"\"\"Read PDF or TXT files and return their combined text\"\"\"\n",
    "    ftext = \"\"\n",
    "    for file_path in files:\n",
    "        if file_path.lower().endswith(\".pdf\"):\n",
    "            pdf_loader = PdfReader(file_path)\n",
    "            for page in pdf_loader.pages:\n",
    "                ftext += page.extract_text() or \"\"  \n",
    "        else:\n",
    "            with open(file_path, \"r\", encoding=\"utf-8\") as f:\n",
    "                ftext += f.read()\n",
    "        ftext += \"\\n\"\n",
    "    return ftext"
   ]
  },
  {
   "cell_type": "markdown",
   "id": "139d16b1",
   "metadata": {},
   "source": [
    "##### 2) Split Full text into small chunks"
   ]
  },
  {
   "cell_type": "code",
   "execution_count": 3,
   "id": "f4f1aee4",
   "metadata": {},
   "outputs": [],
   "source": [
    "from langchain_text_splitters import RecursiveCharacterTextSplitter\n",
    "\n",
    "\n",
    "def split_chunks(text : str , chunk_size :int = 600, chunk_overlap : int = 50) :\n",
    "    \"\"\"Split to small and overla chunks\"\"\"\n",
    "    splitter= RecursiveCharacterTextSplitter(\"\\n\", chunk_size =chunk_size , \n",
    "                                         chunk_overlap =chunk_overlap)\n",
    "    chunks = splitter.split_text(text)\n",
    "\n",
    "    return chunks"
   ]
  },
  {
   "cell_type": "markdown",
   "id": "af101dd1",
   "metadata": {},
   "source": [
    "##### 3) Initialize Vector Database\n",
    "\n",
    "1. Generate embeddings from chunks using the **[MiniLM-L6-v2](https://huggingface.co/sentence-transformers/all-MiniLM-L6-v2)** model from SentenceTransformers.\n",
    "\n",
    "2. Store the embeddings in a vector database using **Chroma** from LangChain."
   ]
  },
  {
   "cell_type": "code",
   "execution_count": 4,
   "id": "9326b1a0",
   "metadata": {},
   "outputs": [],
   "source": [
    "from langchain.embeddings import HuggingFaceEmbeddings\n",
    "from langchain_community.vectorstores import InMemoryVectorStore\n",
    "\n",
    "\n",
    "def create_vectorDB(chunks : list[str] ,\n",
    "                    embedding_name  : str = \"sentence-transformers/all-MiniLM-L6-v2\" ) : \n",
    "    \"\"\"Generate and store embedding of chunks into vector database\"\"\"\n",
    "    embedding_model = HuggingFaceEmbeddings(model_name = embedding_name)\n",
    "    vectordb = InMemoryVectorStore.from_texts(chunks , embedding_model)\n",
    "    return vectordb"
   ]
  },
  {
   "cell_type": "markdown",
   "id": "85a14f2f",
   "metadata": {},
   "source": [
    "##### 4) concate components together\n"
   ]
  },
  {
   "cell_type": "code",
   "execution_count": 5,
   "id": "6dbd992d",
   "metadata": {},
   "outputs": [],
   "source": [
    "def ProcessDocuments(files:list[str]) :\n",
    "    \"\"\"concat all together\"\"\" \n",
    "    \n",
    "    content = get_content_pages(files=files)\n",
    "    chunks = split_chunks(content)\n",
    "    vectorDB = create_vectorDB(chunks)\n",
    "    return vectorDB , chunks"
   ]
  },
  {
   "cell_type": "code",
   "execution_count": 6,
   "id": "5c3e8f9f",
   "metadata": {},
   "outputs": [
    {
     "name": "stderr",
     "output_type": "stream",
     "text": [
      "C:\\Users\\szeya\\AppData\\Local\\Temp\\ipykernel_33700\\2406254441.py:8: LangChainDeprecationWarning: The class `HuggingFaceEmbeddings` was deprecated in LangChain 0.2.2 and will be removed in 1.0. An updated version of the class exists in the :class:`~langchain-huggingface package and should be used instead. To use it run `pip install -U :class:`~langchain-huggingface` and import as `from :class:`~langchain_huggingface import HuggingFaceEmbeddings``.\n",
      "  embedding_model = HuggingFaceEmbeddings(model_name = embedding_name)\n",
      "c:\\Users\\szeya\\miniconda3\\envs\\chat\\Lib\\site-packages\\tqdm\\auto.py:21: TqdmWarning: IProgress not found. Please update jupyter and ipywidgets. See https://ipywidgets.readthedocs.io/en/stable/user_install.html\n",
      "  from .autonotebook import tqdm as notebook_tqdm\n"
     ]
    }
   ],
   "source": [
    "# testing functions\n",
    "pdfs = [os.path.join('data' , x) for x in os.listdir(\"data\")]  #pdf paths\n",
    "vector_db ,chunks = ProcessDocuments(pdfs) "
   ]
  },
  {
   "cell_type": "code",
   "execution_count": 7,
   "id": "ba43e806",
   "metadata": {},
   "outputs": [
    {
     "name": "stdout",
     "output_type": "stream",
     "text": [
      "--------------------------------------------- *1* ---------------------------------------------\n",
      "So we call this supervised learning because we're supervising the algorithm or, in other \n",
      "words, we're giving the algorithm the, quote,  right answer for a number of houses. And \n",
      "then we want the algorithm to learn the a ssociation between the inputs and the outputs \n",
      "and to sort of give us more of the right answers, okay?  \n",
      "It turns out this specific exam ple that I drew here is an example of something called a \n",
      "regression problem. And the term regression sort of refers to the fact that the variable \n",
      "you're trying to predict is a continuous value and price.\n",
      "--------------------------------------------- *2* ---------------------------------------------\n",
      "means. So on the upper left where the m ouse pointer is moving, this horizontal line \n",
      "actually shows the human steering direction, and this white bar, or this white area right \n",
      "here shows the steering direction chosen by the human driver, by moving the steering \n",
      "wheel.  \n",
      "The human is steering a little bit to the left here indicated  by the position of this white \n",
      "region. This second line here wh ere Mamos is pointing, the sec ond line here is the output \n",
      "of the learning algorithm, and where the learni ng algorithm currently thinks is the right\n",
      "--------------------------------------------- *3* ---------------------------------------------\n",
      "into four major sections. We're gonna talk about four major topics in this class, the first \n",
      "of which is supervised learning. So le t me give you an example of that.  \n",
      "So suppose you collect a data set of housing prices. And one of the TAs, Dan Ramage, \n",
      "actually collected a data set for me last week to use in the example later. But suppose that \n",
      "you go to collect statistics about how much hous es cost in a certain geographic area. And \n",
      "Dan, the TA, collected data from housing pr ices in Portland, Oregon. So what you can do\n"
     ]
    }
   ],
   "source": [
    "query = \"what is supervise learning?\" \n",
    "similar_docs = vector_db.similarity_search(query, k=3)\n",
    "for i, doc in enumerate(similar_docs):\n",
    "    print(\"---\" * 15, f\"*{i+1}*\", \"---\" * 15)\n",
    "    print(doc.page_content)"
   ]
  },
  {
   "cell_type": "markdown",
   "id": "2f4d2d2e",
   "metadata": {},
   "source": [
    "# B. Work-Flow-Graph"
   ]
  },
  {
   "cell_type": "markdown",
   "id": "3383e067",
   "metadata": {},
   "source": [
    "## 1) Define StateClass"
   ]
  },
  {
   "cell_type": "code",
   "execution_count": 8,
   "id": "62e2c0d0",
   "metadata": {},
   "outputs": [],
   "source": [
    "from typing import TypedDict, List\n",
    "from langchain_core.messages import BaseMessage\n",
    "\n",
    "class MyState(TypedDict):\n",
    "    messages: List[BaseMessage]\n",
    "    detected_lang: str\n",
    "    dialect: str"
   ]
  },
  {
   "cell_type": "markdown",
   "id": "4c32a810",
   "metadata": {},
   "source": [
    "## 2) Generate a Retriever Tool using LangChain\n",
    "\n",
    "- Use `create_retriever_tool` from **LangChain** to generate a retriever tool from the vector database."
   ]
  },
  {
   "cell_type": "markdown",
   "id": "d95436b8",
   "metadata": {},
   "source": [
    "##### 2.1) retriever_tool Function"
   ]
  },
  {
   "cell_type": "code",
   "execution_count": 9,
   "id": "35a7d73c",
   "metadata": {},
   "outputs": [
    {
     "name": "stdout",
     "output_type": "stream",
     "text": [
      "So we call this supervised learning because we're supervising the algorithm or, in other \n",
      "words, we're giving the algorithm the, quote,  right answer for a number of houses. And \n",
      "then we want the algorithm to learn the a ssociation between the inputs and the outputs \n",
      "and to sort of give us more of the right answers, okay?  \n",
      "It turns out this specific exam ple that I drew here is an example of something called a \n",
      "regression problem. And the term regression sort of refers to the fact that the variable \n",
      "you're trying to predict is a continuous value and price.\n",
      "\n",
      "means. So on the upper left where the m ouse pointer is moving, this horizontal line \n",
      "actually shows the human steering direction, and this white bar, or this white area right \n",
      "here shows the steering direction chosen by the human driver, by moving the steering \n",
      "wheel.  \n",
      "The human is steering a little bit to the left here indicated  by the position of this white \n",
      "region. This second line here wh ere Mamos is pointing, the sec ond line here is the output \n",
      "of the learning algorithm, and where the learni ng algorithm currently thinks is the right\n",
      "\n",
      "into four major sections. We're gonna talk about four major topics in this class, the first \n",
      "of which is supervised learning. So le t me give you an example of that.  \n",
      "So suppose you collect a data set of housing prices. And one of the TAs, Dan Ramage, \n",
      "actually collected a data set for me last week to use in the example later. But suppose that \n",
      "you go to collect statistics about how much hous es cost in a certain geographic area. And \n",
      "Dan, the TA, collected data from housing pr ices in Portland, Oregon. So what you can do\n",
      "\n",
      "buy or movies for you to rent or whatever , these are other examples of learning \n",
      "algorithms that have learned what sorts of th ings you like to buy or what sorts of movies \n",
      "you like to watch and can therefore give  customized recommendations to you.  \n",
      "Just about a week ago, I had my car serviced, and even there, my car mechanic was trying \n",
      "to explain to me some learning algorithm in th e innards of my car th at's sort of doing its \n",
      "best to optimize my driving performan ce for fuel efficiency or something.\n"
     ]
    }
   ],
   "source": [
    "from langchain.tools.retriever import create_retriever_tool \n",
    "\n",
    "retriver = vector_db.as_retriever()\n",
    "retrivertool = create_retriever_tool(retriver , \n",
    "                                     \"retriever_tool\" ,\n",
    "                                     \"Search and return information about input context\" )\n",
    "\n",
    "print(retrivertool.invoke({\"query\": query}))\n"
   ]
  },
  {
   "cell_type": "markdown",
   "id": "e4fa9197",
   "metadata": {},
   "source": [
    "##### 2.2) retriever Agient"
   ]
  },
  {
   "cell_type": "code",
   "execution_count": 10,
   "id": "4b881946",
   "metadata": {},
   "outputs": [],
   "source": [
    "from langgraph.prebuilt import create_react_agent\n",
    "\n",
    "RetriverAgent = create_react_agent(\n",
    "    llm,\n",
    "    tools=[retrivertool],\n",
    "    name=\"RetriverAgent\",\n",
    "    prompt=(\n",
    "        \"You are a retriever agent.\\n\"\n",
    "        \"- Otherwise, always call the retriever_tool with the user query.\\n\"\n",
    "        \"- Return ONLY the page_content of the retrieved documents.\\n\"\n",
    "        \"- Do not summarize or rephrase.\\n\"\n",
    "        \"- Don't return repeated retrieved chunks.\\n\"\n",
    "        \"- If you didn't find similar text return 'I can't find it'.\"\n",
    "    )\n",
    ")\n"
   ]
  },
  {
   "cell_type": "markdown",
   "id": "654b8abf",
   "metadata": {},
   "source": [
    "## 3) Detect Language and Dialect"
   ]
  },
  {
   "cell_type": "markdown",
   "id": "4ed5a5e3",
   "metadata": {},
   "source": [
    "##### 3.1) Detect Language using Prompt Template with structure ouput and Dialect if the query language is ar\n",
    "\n",
    "#####  Detect Arabic dialect\n",
    "\n",
    "- Using [IbrahimAmin/marbertv2-arabic-written-dialect-classifier](https://huggingface.co/IbrahimAmin/marbertv2-arabic-written-dialect-classifier)  \n",
    "- The model predicts one of **5 Arabic dialects**:\n",
    "\n",
    "| Code | Dialect | Region / Notes |\n",
    "|------|---------|----------------|\n",
    "| MAGHREB | Maghreb dialect | Northwest Africa (Morocco, Algeria, Tunisia, Libya, Mauritania) |\n",
    "| LEV     | Levantine dialect | Lebanon, Syria, Jordan, Palestine |\n",
    "| MSA     | Modern Standard Arabic | Formal Arabic (books, news, official use) |\n",
    "| GLF     | Gulf dialect | Saudi Arabia, UAE, Kuwait, Bahrain, Qatar, Oman |\n",
    "| EGY     | Egyptian dialect | Egypt |\n",
    "\n"
   ]
  },
  {
   "cell_type": "code",
   "execution_count": 54,
   "id": "21fafd04",
   "metadata": {},
   "outputs": [
    {
     "name": "stderr",
     "output_type": "stream",
     "text": [
      "Device set to use cpu\n"
     ]
    }
   ],
   "source": [
    "from pydantic import Field, BaseModel\n",
    "from langgraph.graph import MessagesState\n",
    "from langchain_core.prompts import PromptTemplate\n",
    "from langchain_core.messages import HumanMessage\n",
    "from transformers import AutoTokenizer, AutoModelForSequenceClassification, pipeline\n",
    "\n",
    "class LanguageDetector(BaseModel):\n",
    "    language: str = Field(\n",
    "        description=\"Detected language of the question, represented in a two-character ISO 639-1 code.\"\n",
    "    )\n",
    "\n",
    "\n",
    "dialect_model_name = \"IbrahimAmin/marbertv2-arabic-written-dialect-classifier\"\n",
    "\n",
    "dialect_pipeline = pipeline(\n",
    "    \"text-classification\",\n",
    "    model=AutoModelForSequenceClassification.from_pretrained(dialect_model_name),\n",
    "    tokenizer=AutoTokenizer.from_pretrained(dialect_model_name),\n",
    ")\n",
    "\n",
    "\n",
    "\n",
    "def detecting_language(state: MyState):\n",
    "    \n",
    "   \n",
    "    question = state['messages'][0].content\n",
    "    \n",
    "    detectionmodel = llm.with_structured_output(LanguageDetector)\n",
    "\n",
    "    LANGUAGE_DETECTOR_TEMPLATE = \"\\n\\n\".join([\n",
    "        \"You are a language detector assessing to return the language of the question from a user.\",\n",
    "        \"Here is the user question: {question}\",\n",
    "        \"# Instructions:\",\n",
    "        \"- Return only the two-character ISO 639-1 code for the language.\",\n",
    "        \"- Base detection on the language of the question itself (its structure and wording), not on individual foreign words inside it.\",\n",
    "        \"- Focus especially on the interrogative word (e.g., what, how, من, ماذا) and the main verb or auxiliary verb.\"\n",
    "    ])\n",
    "\n",
    "\n",
    "    detection_prompt = PromptTemplate(\n",
    "        template=LANGUAGE_DETECTOR_TEMPLATE,\n",
    "        input_variables=[\"question\"]\n",
    "    )\n",
    "\n",
    "\n",
    "    prompt = detection_prompt.format(question=question)\n",
    "    response: LanguageDetector = detectionmodel.invoke(prompt)\n",
    "\n",
    "\n",
    "    # dialect\n",
    "    dialect = None\n",
    "    if response.language == \"ar\":\n",
    "        preds = dialect_pipeline(question, top_k=None)\n",
    "        if preds:\n",
    "            best = max(preds, key=lambda x: x[\"score\"])\n",
    "            dialect = best[\"label\"]\n",
    "    \n",
    "    \n",
    "    return {\n",
    "        \"messages\": state[\"messages\"],\n",
    "        \"detected_lang\": response.language,\n",
    "        \"dialect\": dialect\n",
    "    }\n",
    "\n"
   ]
  },
  {
   "cell_type": "code",
   "execution_count": 12,
   "id": "fa1e292e",
   "metadata": {},
   "outputs": [
    {
     "name": "stdout",
     "output_type": "stream",
     "text": [
      "Arabic Question: ('ar', 'MSA')\n",
      "--------------------------------------------------\n",
      "English Question: ('en', None)\n",
      "--------------------------------------------------\n",
      "French Question: ('fr', None)\n",
      "--------------------------------------------------\n",
      "Spanish Question: ('es', None)\n",
      "--------------------------------------------------\n",
      "German Question: ('de', None)\n",
      "--------------------------------------------------\n"
     ]
    }
   ],
   "source": [
    "#Test\n",
    "from langchain_core.messages import HumanMessage\n",
    "import time\n",
    "\n",
    "examples = [\n",
    "    (\"Arabic Question\", MessagesState(messages=[HumanMessage(content=\"ما هي أنواع Transformer؟\")])),\n",
    "    (\"English Question\", MessagesState(messages=[HumanMessage(content=\"What are the types of Transformer?\")])),\n",
    "    (\"French Question\", MessagesState(messages=[HumanMessage(content=\"Qu'est-ce qu'un transformateur?\")])),\n",
    "    (\"Spanish Question\", MessagesState(messages=[HumanMessage(content=\"¿Cuáles son los tipos de transformadores?\")])),\n",
    "    (\"German Question\", MessagesState(messages=[HumanMessage(content=\"Welche Arten von Transformatoren gibt es?\")])) ,\n",
    "]\n",
    "\n",
    "\n",
    "for name, state in examples:\n",
    "    result = detecting_language(state)\n",
    "    print(f\"{name}: {result['detected_lang'] ,result['dialect'] }\")\n",
    "    print(\"-\" * 50)\n",
    "    time.sleep(5)"
   ]
  },
  {
   "cell_type": "code",
   "execution_count": 14,
   "id": "accf8b98",
   "metadata": {},
   "outputs": [
    {
     "name": "stdout",
     "output_type": "stream",
     "text": [
      "EGY Example: ('ar', 'EGY')\n",
      "--------------------------------------------------\n",
      "LEV Example 2: ('ar', 'LEV')\n",
      "--------------------------------------------------\n",
      "GLF Example: ('ar', 'GLF')\n",
      "--------------------------------------------------\n",
      "LEV Example: ('ar', 'LEV')\n",
      "--------------------------------------------------\n",
      "MSA Example: ('ar', 'MSA')\n",
      "--------------------------------------------------\n"
     ]
    }
   ],
   "source": [
    "#Test\n",
    "import time\n",
    "\n",
    "examples = [\n",
    "    (\"EGY Example\", MessagesState(messages=[HumanMessage(content=\"ازيك يصحبي قولي انواع l\")])),\n",
    "    (\"LEV Example 2\", MessagesState(messages=[HumanMessage(content=\"عامل اي يازلمي اليوم ممكن تقولي types of ML\")])),\n",
    "    (\"GLF Example\", MessagesState(messages=[HumanMessage(content=\"شلونك يا طويل العمر؟ ممكن تقول لي examples of ML\")])),\n",
    "    (\"LEV Example\", MessagesState(messages=[HumanMessage(content=\"كيفك يا زلمي؟ شو الأخبار؟ give me types of ML\")])),\n",
    "    (\"MSA Example\", MessagesState(messages=[HumanMessage(content=\"ما هي أنواع   ML techniques؟\")]))\n",
    "]\n",
    "\n",
    "\n",
    "\n",
    "for name, state in examples:\n",
    "    result = detecting_language(state)\n",
    "    print(f\"{name}: {result['detected_lang'] ,result['dialect'] }\")\n",
    "    print(\"-\" * 50)\n",
    "    time.sleep(5)"
   ]
  },
  {
   "cell_type": "markdown",
   "id": "f0f172ea",
   "metadata": {},
   "source": [
    "## 4) Translate Query to English"
   ]
  },
  {
   "cell_type": "code",
   "execution_count": 13,
   "id": "d8d73a84",
   "metadata": {},
   "outputs": [],
   "source": [
    "from langchain_core.prompts import PromptTemplate\n",
    "from langchain_core.messages import HumanMessage\n",
    "from langgraph.graph import MessagesState\n",
    "\n",
    "\n",
    "def TranslateQuery(state :MyState):\n",
    "    \n",
    "    \"Machine Translation to translate Queries to english text\"\n",
    "    \n",
    "    user_messages = [m for m in state[\"messages\"] if isinstance(m,HumanMessage)]\n",
    "    question = state.get(\"translated_query\", user_messages[-1].content)\n",
    "\n",
    "    msg_prompt = f\"\"\"\n",
    "                    You are a Machine Translation (MT) system.\n",
    "                    Your task: translate the user question to English text.\n",
    "\n",
    "                    Instructions:\n",
    "                    1. Translate the question to English as accurately as possible.\n",
    "                    2. Do not add explanations, comments, or extra content.\n",
    "                    3. Do not attempt to clarify or modify the meaning.\n",
    "                    4. Keep the original meaning exactly.\n",
    "\n",
    "                    User question: \"{question}\"\n",
    "                    \"\"\"\n",
    "\n",
    "    prompt_msg_template = PromptTemplate(\n",
    "        template=msg_prompt,\n",
    "        input_variables=['question']\n",
    "    )\n",
    "\n",
    "    resonong = llm.invoke([{'role': 'user', 'content': prompt_msg_template.format(question=question)}])\n",
    "\n",
    "    return {'messages': [HumanMessage(content=resonong.content)]}\n"
   ]
  },
  {
   "cell_type": "code",
   "execution_count": 16,
   "id": "dd5fd268",
   "metadata": {},
   "outputs": [
    {
     "name": "stdout",
     "output_type": "stream",
     "text": [
      "================================\u001b[1m Human Message \u001b[0m=================================\n",
      "\n",
      "Can you differentiate between types of transformers?\n"
     ]
    }
   ],
   "source": [
    "from langchain_core.messages import convert_to_messages\n",
    "\n",
    "input_state = {\n",
    "    \"messages\": convert_to_messages([\n",
    "        {\"role\": \"user\", \"content\": \"تقدر تفرق بين انواع transformers \"}\n",
    "    ])\n",
    "}\n",
    "\n",
    "\n",
    "response = TranslateQuery(input_state)\n",
    "response[\"messages\"][-1].pretty_print()"
   ]
  },
  {
   "cell_type": "markdown",
   "id": "c1be0803",
   "metadata": {},
   "source": [
    "## 5) Grader\n",
    "- Grander is a score computed from llm to determine whether the retrieved documents are relevant to the question."
   ]
  },
  {
   "cell_type": "code",
   "execution_count": 14,
   "id": "4e612d80",
   "metadata": {},
   "outputs": [],
   "source": [
    "from pydantic import BaseModel , Field\n",
    "from typing import Literal\n",
    "from langchain_core.messages import HumanMessage\n",
    "\n",
    "\n",
    "class GraderDocument(BaseModel):\n",
    "    \"\"\"Grade documents using a binary score for relevance check.\"\"\"\n",
    "    binary_score : str = Field(description= \"Relevance score: 'yes' if relevant, or 'no' if not relevant\")\n",
    "\n",
    "\n",
    "def GraderDocumentAgent(state: MyState)-> Literal['Chit-ChatAgent' ,'AnswerAgent'] :\n",
    "    \n",
    "    user_messages = [m for m in state[\"messages\"] if isinstance(m, HumanMessage)]\n",
    "    question = state.get(\"translated_query\", user_messages[-1].content)\n",
    "    context = state['messages'][-1].content\n",
    "\n",
    "      \n",
    "    gradermodel = llm.with_structured_output(GraderDocument)\n",
    "    \n",
    "    GRADE_PROMPT = \"\\n\\n\".join([\n",
    "    \"You are a grader assessing relevance of a retrieved document to a user question.\",\n",
    "    \"Here is the retrieved document: \\n\\n {context}\",\n",
    "    \"Here is the user question: {question}\",\n",
    "    \"If the document contains keyword(s) or semantic meaning related to the user question, grade it as relevant.\",\n",
    "    \"If the question is an introductory or personal question (e.g., greetings like 'how are you', or self-introduction like 'I am X'), always grade it as 'yes'.\",\n",
    "    \"Give a binary score 'yes' or 'no' score to indicate whether the document is relevant to the question.\" ])\n",
    "    \n",
    "    prompt = PromptTemplate(template= GRADE_PROMPT , input_variables=['question', 'context'])\n",
    "    \n",
    "    \n",
    "    prompt_template = prompt.format(question = question , context = context)\n",
    "    response =  gradermodel.invoke(\n",
    "        [HumanMessage(content=prompt_template) ]\n",
    "    )\n",
    "\n",
    "    score = response.binary_score\n",
    "    \n",
    "    if score == 'yes' :\n",
    "        return \"AnswerAgent\"\n",
    "    else : \n",
    "        return 'Chit-ChatAgent'\n",
    "    \n",
    "\n",
    "\n"
   ]
  },
  {
   "cell_type": "code",
   "execution_count": 18,
   "id": "f82013ef",
   "metadata": {},
   "outputs": [
    {
     "data": {
      "text/plain": [
       "'Chit-ChatAgent'"
      ]
     },
     "execution_count": 18,
     "metadata": {},
     "output_type": "execute_result"
    }
   ],
   "source": [
    "# test\n",
    "from langchain_core.messages import convert_to_messages\n",
    "\n",
    "input = {\n",
    "    \"messages\": convert_to_messages(\n",
    "        [\n",
    "            {\n",
    "                \"role\": \"user\",\n",
    "                \"content\": \"What does machine learning?\",\n",
    "            },\n",
    "            \n",
    "            {\n",
    "                \"role\": \"assistant\",\n",
    "                \"content\": \"\",\n",
    "                \"tool_calls\": [\n",
    "                    {\n",
    "                        \"id\": \"1\",\n",
    "                        \"name\": \"retriever_tool\",\n",
    "                        \"args\": {\"query\": \"Supervised learning, Unsupervised learning, Reinforcement learning.\"},\n",
    "                    }\n",
    "                ],\n",
    "            },\n",
    "            {\"role\": \"tool\", \"content\": \"meow\", \"tool_call_id\": \"1\"},\n",
    "        ]\n",
    "    )\n",
    "}\n",
    "\n",
    "\n",
    "GraderDocumentAgent(input)"
   ]
  },
  {
   "cell_type": "code",
   "execution_count": 19,
   "id": "69180bb8",
   "metadata": {},
   "outputs": [
    {
     "data": {
      "text/plain": [
       "'AnswerAgent'"
      ]
     },
     "execution_count": 19,
     "metadata": {},
     "output_type": "execute_result"
    }
   ],
   "source": [
    "from langchain_core.messages import convert_to_messages\n",
    "\n",
    "input = {\n",
    "    \"messages\": convert_to_messages(\n",
    "        [\n",
    "            {\n",
    "                \"role\": \"user\",\n",
    "                \"content\": \"What does machine learning?\",\n",
    "            },\n",
    "            \n",
    "            {\n",
    "                \"role\": \"assistant\",\n",
    "                \"content\": \"\",\n",
    "                \"tool_calls\": [\n",
    "                    {\n",
    "                        \"id\": \"1\",\n",
    "                        \"name\": \"retriever_tool\",\n",
    "                        \"args\": {\"query\": \"Supervised learning, Unsupervised learning, Reinforcement learning.\"},\n",
    "                    }\n",
    "                ],\n",
    "            },\n",
    "            {\"role\": \"tool\", \n",
    "             \"content\": \"\"\"Machine learning is a field of artificial intelligence that focuses on building models that can learn from data and make predictions or decisions without being explicitly programmed. \n",
    "                            It is commonly used for tasks likelassification, regression, and pattern recognition. \"\"\", \n",
    "            \"tool_call_id\": \"1\"},\n",
    "        ]\n",
    "    )\n",
    "}\n",
    "\n",
    "\n",
    "GraderDocumentAgent(input)"
   ]
  },
  {
   "cell_type": "markdown",
   "id": "4098f4f2",
   "metadata": {},
   "source": [
    "## 6) Generate answer\n"
   ]
  },
  {
   "cell_type": "code",
   "execution_count": 15,
   "id": "6acf208b",
   "metadata": {},
   "outputs": [],
   "source": [
    "def GenerateAnswer(state: MyState) :\n",
    "    \"\"\"Generate an answer.\"\"\"\n",
    "\n",
    "    GENERATE_PROMPT = \"\\n\".join([\n",
    "        \"You are an assistant for question-answering tasks.\",\n",
    "        \"Use the following pieces of retrieved context to answer the question.\",\n",
    "        \"- you must first understand the question and the context to answer correctly.\",\n",
    "        \"Answer as many questions as possible and make it a simple temporary one.\",\n",
    "        \"- Generate english text only.\",\n",
    "        \"- If the question is a greeting or introductory (like 'how are you', 'what's up', 'hello', 'hi', or self-introduction like 'I am X'), do not use the context. Instead, just greet back politely and say 'How can I help you?'.\",\n",
    "        \"- If it is a normal question, add some information from the context in your answer to make it complete, not only from the context.\",\n",
    "        \"Question: {question}\\n\",\n",
    "        \"Context: {context}\"\n",
    "    ])\n",
    "\n",
    "    user_messages = [m for m in state[\"messages\"] if isinstance(m,HumanMessage)]\n",
    "    \n",
    "    question = state.get(\"translated_query\", user_messages[-1].content)\n",
    "    context = state[\"messages\"][-1].content\n",
    "\n",
    "    prompt = GENERATE_PROMPT.format(question=question, context=context)\n",
    "    response = llm.invoke([{\"role\": \"user\", \n",
    "                            \"content\": prompt}])\n",
    "    \n",
    "    return {\"messages\": [response]}"
   ]
  },
  {
   "cell_type": "code",
   "execution_count": 21,
   "id": "d9ae8b3f",
   "metadata": {},
   "outputs": [
    {
     "name": "stdout",
     "output_type": "stream",
     "text": [
      "==================================\u001b[1m Ai Message \u001b[0m==================================\n",
      "\n",
      "The main types of machine learning are supervised learning, unsupervised learning, and reinforcement learning.\n"
     ]
    }
   ],
   "source": [
    "from langchain_core.messages import convert_to_messages\n",
    "\n",
    "input = {\n",
    "    \"messages\": convert_to_messages(\n",
    "        [\n",
    "            {\n",
    "                \"role\": \"user\",\n",
    "                \"content\": \"What are the main types of machine learning?\",\n",
    "            },\n",
    "            {\n",
    "                \"role\": \"assistant\",\n",
    "                \"content\": \"\",\n",
    "                \"tool_calls\": [\n",
    "                    {\n",
    "                        \"id\": \"1\",\n",
    "                        \"name\": \"retrieve_tool\",\n",
    "                        \"args\": {\"query\": \"types of machine learning\"},\n",
    "                    }\n",
    "                ],\n",
    "            },\n",
    "            {\n",
    "                \"role\": \"tool\",\n",
    "                \"content\": \"Machine learning is commonly categorized into three main types: supervised learning, unsupervised learning, and reinforcement learning.\",\n",
    "                \"tool_call_id\": \"1\",\n",
    "            },\n",
    "        ]\n",
    "    )\n",
    "}\n",
    "\n",
    "response = GenerateAnswer(input)\n",
    "response[\"messages\"][-1].pretty_print()"
   ]
  },
  {
   "cell_type": "markdown",
   "id": "b9e1cd65",
   "metadata": {},
   "source": [
    "## 7) Chit-Chat Agent"
   ]
  },
  {
   "cell_type": "code",
   "execution_count": 16,
   "id": "68f00c65",
   "metadata": {},
   "outputs": [],
   "source": [
    "from langchain_core.prompts import PromptTemplate\n",
    "from langchain_core.messages import AIMessage\n",
    "\n",
    "def chitChatAgent(state : MyState):\n",
    "    user_messages= [m for m in state['messages'] if isinstance(m,HumanMessage)]\n",
    "    question = state.get(\"translated_query\", user_messages[-1].content)\n",
    "\n",
    "    msg_prompt = f\"\"\"\n",
    "        You are a Chit-Chat Assistant.\n",
    "        Your task: reply politely when the context not related to  a user question so follow Instructions to senf a chit chat message.\n",
    "        \n",
    "        Instructions:\n",
    "        1. Start by apologizing that you don't fully understand the question.\n",
    "        2. Try to clarify by highlighting key words from the user's question.\n",
    "        3. Use short, simple sentences to suggest that the user rephrase their question.\n",
    "        5. shorts apologizing messages in first sentence only.\n",
    "        6. write in english text only.\n",
    "        7. don't require any language from user to write his question.\n",
    "        8. ask only some question trying to understand user question\n",
    "        \n",
    "\n",
    "        User question: \"{question}\"\n",
    "        \"\"\"\n",
    "\n",
    "    prompt_msg_template = PromptTemplate(\n",
    "        template=msg_prompt,\n",
    "        input_variables=['question']\n",
    "    )\n",
    "\n",
    "    resonong = llm.invoke([{'role': 'user', 'content': prompt_msg_template.format(question=question)}])\n",
    "\n",
    "    return {'messages': [AIMessage(content=resonong.content)]}\n"
   ]
  },
  {
   "cell_type": "code",
   "execution_count": 23,
   "id": "790dde26",
   "metadata": {},
   "outputs": [
    {
     "name": "stdout",
     "output_type": "stream",
     "text": [
      "==================================\u001b[1m Ai Message \u001b[0m==================================\n",
      "\n",
      "I apologize, but I'm not entirely sure I understand your question. You mentioned \"salaj\" and \"zamilk\". Could you please rephrase it? Are you asking about a specific player or a team?\n"
     ]
    }
   ],
   "source": [
    "from langchain_core.messages import convert_to_messages\n",
    "\n",
    "input = {\n",
    "    \"messages\": convert_to_messages(\n",
    "        [\n",
    "            {\n",
    "                \"role\": \"user\",\n",
    "                \"content\": \"where salaj play in zamilk\",\n",
    "            },\n",
    "            {\n",
    "                \"role\": \"assistant\",\n",
    "                \"content\": \"\",\n",
    "                \"tool_calls\": [\n",
    "                    {\n",
    "                        \"id\": \"1\",\n",
    "                        \"name\": \"retrieve_tool\",\n",
    "                        \"args\": {\"query\": \"classification of machine learning\"},\n",
    "                    }\n",
    "                ],\n",
    "            },\n",
    "            {\"role\": \"tool\", \"content\": \"Supervised, Unsupervised, Reinforcement Learning\", \"tool_call_id\": \"1\"},\n",
    "        ]\n",
    "    )\n",
    "}\n",
    "\n",
    "response = chitChatAgent(input)\n",
    "response[\"messages\"][-1].pretty_print()"
   ]
  },
  {
   "cell_type": "code",
   "execution_count": 24,
   "id": "985f5d4a",
   "metadata": {},
   "outputs": [
    {
     "name": "stdout",
     "output_type": "stream",
     "text": [
      "==================================\u001b[1m Ai Message \u001b[0m==================================\n",
      "\n",
      "I apologize, but I don't fully understand your question. I'm having difficulty understanding the words you've used. Could you please try to rephrase it? What are you trying to ask about?\n"
     ]
    }
   ],
   "source": [
    "from langchain_core.messages import convert_to_messages\n",
    "\n",
    "input = {\n",
    "    \"messages\": convert_to_messages(\n",
    "        [\n",
    "            {\n",
    "                \"role\": \"user\",\n",
    "                \"content\": \"اين كنت وين ياولا\",\n",
    "            }\n",
    "           \n",
    "        ]\n",
    "    )\n",
    "}\n",
    "\n",
    "response = chitChatAgent(input)\n",
    "response[\"messages\"][-1].pretty_print()"
   ]
  },
  {
   "cell_type": "markdown",
   "id": "707e3fa4",
   "metadata": {},
   "source": [
    "## 8)  Translate Agent\n",
    "\n",
    "- Translate the reasoning into the same **language** and **dialect** of the question.\n"
   ]
  },
  {
   "cell_type": "code",
   "execution_count": 31,
   "id": "d68b95e0",
   "metadata": {},
   "outputs": [],
   "source": [
    "def TranslationReasoning(state: MyState):\n",
    "    \"\"\"Translate the reasoning into the same **language** and **dialect** of the question.\"\"\"\n",
    "\n",
    "    context = state[\"messages\"][-1].content\n",
    "    detected_lang = state.get(\"detected_lang\")\n",
    "    dialect = state.get(\"dialect\")\n",
    "\n",
    "\n",
    "    Translatetemplate = \"\\n\".join([\n",
    "        \"You are a translation agent. Your ONLY job is to translate English text into the target language below.\",\n",
    "        \"Never answer in Spanish, French, or any other language unless it exactly matches the detected language.\",\n",
    "        \"you must know we shortcut the two-character ISO 639-1 code for the language like ar for arabic , en for english \",\n",
    "        \"\",\n",
    "        f\"Target language: {detected_lang} \",\n",
    "        f\"Target dialect: {dialect or 'standard'}\",\n",
    "        \"\",\n",
    "        \"# Instructions:\",\n",
    "        \"- If dialect is None, translate to the language only.\",\n",
    "        \"- If the language is not English, keep important keywords in English.\",\n",
    "        \"- Don't explain, don't rephrase, just translate.\",\n",
    "        \"- If target language is Arabic, mimic the dialect if possible; otherwise use Modern Standard Arabic.\",\n",
    "        \"\",\n",
    "        \"Text to translate to targey language : \",\n",
    "        \"{context}\"\n",
    "    ])\n",
    "\n",
    "    TranslatePrompt = PromptTemplate(\n",
    "        template=Translatetemplate,\n",
    "        input_variables=[\"context\"],\n",
    "    )\n",
    "\n",
    "    prompt = TranslatePrompt.format(context=context)\n",
    "\n",
    "    response = llm.invoke([\n",
    "        {\"role\": \"system\", \"content\": \"You are a strict translation agent. Respond ONLY with the translated text.\"},\n",
    "        {\"role\": \"user\", \"content\": prompt}\n",
    "    ])\n",
    "    \n",
    "    \n",
    "    translated_text = response.content \n",
    "    return {\"messages\": [AIMessage(content=translated_text)]}"
   ]
  },
  {
   "cell_type": "code",
   "execution_count": 32,
   "id": "8f5a093d",
   "metadata": {},
   "outputs": [
    {
     "name": "stdout",
     "output_type": "stream",
     "text": [
      "\n",
      "================ Translation Output ================\n",
      "\n",
      "==================================\u001b[1m Ai Message \u001b[0m==================================\n",
      "\n",
      "إزيك يا إسلام! أنا كويس، شكراً إنك سألت! إزاي أقدر أساعدك؟\n"
     ]
    }
   ],
   "source": [
    "\n",
    "test_state = {\n",
    "    \"messages\": [\n",
    "        HumanMessage(content=\"Hello Islam! I'm doing well, thank you for asking! How can I help you?\")  \n",
    "    ],\n",
    "    \"detected_lang\": \"ar\",    \n",
    "    \"dialect\": \"EGY\"        \n",
    "}\n",
    "\n",
    "result = TranslationReasoning(test_state)\n",
    "\n",
    "print(\"\\n================ Translation Output ================\\n\")\n",
    "for msg in result[\"messages\"]:\n",
    "    msg.pretty_print()\n"
   ]
  },
  {
   "cell_type": "markdown",
   "id": "59f629be",
   "metadata": {},
   "source": [
    "# Work Flow"
   ]
  },
  {
   "cell_type": "code",
   "execution_count": 48,
   "id": "9e6d8d04",
   "metadata": {},
   "outputs": [],
   "source": [
    "from langgraph.graph import START, END, StateGraph\n",
    "from langgraph.prebuilt import ToolNode\n",
    "from langgraph.checkpoint.memory import MemorySaver\n",
    "from langchain.tools import StructuredTool\n",
    "\n",
    "workflow = StateGraph(MyState)\n",
    "\n",
    "workflow.add_node(\"DetectLangAgent\", detecting_language)\n",
    "workflow.add_node(\"Translate_Query\", TranslateQuery)\n",
    "workflow.add_node(\"RetriverAgent\", RetriverAgent)\n",
    "workflow.add_node(\"Chit-ChatAgent\", chitChatAgent)\n",
    "workflow.add_node(\"AnswerAgent\", GenerateAnswer)\n",
    "workflow.add_node(\"TranslationReasoning\", TranslationReasoning)\n",
    "\n",
    "workflow.add_edge(START, \"DetectLangAgent\")\n",
    "workflow.add_edge(\"DetectLangAgent\", \"Translate_Query\")\n",
    "workflow.add_edge(\"Translate_Query\", \"RetriverAgent\")\n",
    "\n",
    "workflow.add_conditional_edges(\n",
    "    \"RetriverAgent\",\n",
    "    GraderDocumentAgent,\n",
    "    {\n",
    "        \"AnswerAgent\": \"AnswerAgent\",\n",
    "        \"Chit-ChatAgent\": \"Chit-ChatAgent\",\n",
    "    }\n",
    ")\n",
    "\n",
    "workflow.add_edge(\"AnswerAgent\", \"TranslationReasoning\")\n",
    "workflow.add_edge(\"Chit-ChatAgent\", \"TranslationReasoning\")\n",
    "workflow.add_edge(\"TranslationReasoning\", END)\n",
    "\n",
    "graph = workflow.compile(checkpointer=MemorySaver())\n",
    "\n"
   ]
  },
  {
   "cell_type": "code",
   "execution_count": 49,
   "id": "2db6ac09",
   "metadata": {},
   "outputs": [
    {
     "data": {
      "image/png": "[encoded data removed]",
      "text/plain": [
       "<langgraph.graph.state.CompiledStateGraph object at 0x000002144A025B50>"
      ]
     },
     "execution_count": 49,
     "metadata": {},
     "output_type": "execute_result"
    }
   ],
   "source": [
    "graph\n"
   ]
  },
  {
   "cell_type": "code",
   "execution_count": 50,
   "id": "a2cf54df",
   "metadata": {},
   "outputs": [
    {
     "name": "stdout",
     "output_type": "stream",
     "text": [
      "================================\u001b[1m Human Message \u001b[0m=================================\n",
      "\n",
      "اذيك ياصحبي انا اسلام عامل اي\n",
      "================================\u001b[1m Human Message \u001b[0m=================================\n",
      "\n",
      "اذيك ياصحبي انا اسلام عامل اي\n",
      "==================================\u001b[1m Ai Message \u001b[0m==================================\n",
      "Name: DetectLangAgent\n",
      "\n",
      "Detected language: ar\n",
      "================================\u001b[1m Human Message \u001b[0m=================================\n",
      "\n",
      "How are you, my friend? I am Islam, how are you doing?\n",
      "================================\u001b[1m Human Message \u001b[0m=================================\n",
      "\n",
      "How are you, my friend? I am Islam, how are you doing?\n",
      "==================================\u001b[1m Ai Message \u001b[0m==================================\n",
      "Name: RetriverAgent\n",
      "Tool Calls:\n",
      "  retriever_tool (da4e8f24-3b5f-4963-b156-3f01c3fa4286)\n",
      " Call ID: da4e8f24-3b5f-4963-b156-3f01c3fa4286\n",
      "  Args:\n",
      "    query: How are you, my friend? I am Islam, how are you doing?\n",
      "=================================\u001b[1m Tool Message \u001b[0m=================================\n",
      "Name: retriever_tool\n",
      "\n",
      "word “negative” to see which is higher:\n",
      "P(positivejThe sentiment of the sentence ``I like Jackie Chan\" is: )\n",
      "P(negativejThe sentiment of the sentence ``I like Jackie Chan\" is: )\n",
      "If the word “positive” is more probable, we say the sentiment of the sentence is\n",
      "positive, otherwise we say the sentiment is negative.\n",
      "We can also cast more complex tasks as word prediction. Consider question\n",
      "answering, in which the system is given a question (for example a question with\n",
      "a simple factual answer) and must give a textual answer; we introduce this task in\n",
      "\n",
      "people in this class, I just encourage you again to start to form project partners, to try to \n",
      "find project partners to do your project with. And also, this is a good time to start forming \n",
      "study groups, so either talk to your friends  or post in the newsgroup, but we just \n",
      "encourage you to try to star t to do both of those today, okay? Form study groups, and try \n",
      "to find two other project partners.  \n",
      "So thank you. I'm looking forward to teaching this class, and I'll see you in a couple of \n",
      "days.  [End of Audio]  \n",
      "Duration: 69 minutes  \n",
      "MachineLearning-Lecture02\n",
      "\n",
      "E5+……………\n",
      "U\n",
      "U\n",
      "U\n",
      "U…logitslogitslogitslogitslogits…\n",
      "<latexit sha1_base64=\"q3ZgXDyG7qtkT7t8hT47RdlwYG4=\">AAAB+XicbVDLSsNAFJ3UV62vWHe6GVsEN5bERXUlBUVcVrAPaEqYTCft0MlMmJkIIQT8AT/CTRE3Cv6Ev+DfmLTdtPXAwOGcM9x7jxcyqrRl/RqFtfWNza3idmlnd2//wDwst5WIJCYtLJiQXQ8pwignLU01I91QEhR4jHS88W3ud56JVFTwJx2HpB+gIac+xUhnkmseXzhMDGHsJk6A9EgGiR4hPlZpWnLNqlWzpoCrxJ6TauP0tXw3qdw0XfPHGQgcBYRrzJBSPdsKdT9BUlPMSFpyIkVChMdoSJLp5ik8y6QB9IXMHtdwqi7kUKBUHHhZMl9PLXu5+J/Xi7R/3U8oDyNNOJ4N8iMGtYB5DXBAJcGaxRlBWNJsQ4hHSCKss7Ly0+3lQ1dJ+7Jm12v1x6yDezBDEZyACjgHNrgCDfAAmqAFMHgBE/AJvozEeDPejY9ZtGDM/xyBBRjff79pldo=</latexit>\u0000logythanks\n",
      "\n",
      "all the math and equations and so on  that I'll be doing in class.  \n",
      "There's also a newsgroup, su.class.cs229, also written on the handout. This is a \n",
      "newsgroup that's sort of a forum for people in  the class to get to  know each other and \n",
      "have whatever discussions you want to ha ve amongst yourselves. So the class newsgroup \n",
      "will not be monitored by the TAs and me. But this is a place for you to form study groups \n",
      "or find project partners or discuss homework problems and so on, and it's not monitored \n",
      "by the TAs and me. So feel free to ta lk trash about this class there.\n",
      "==================================\u001b[1m Ai Message \u001b[0m==================================\n",
      "Name: RetriverAgent\n",
      "\n",
      "I can't find it.\n",
      "==================================\u001b[1m Ai Message \u001b[0m==================================\n",
      "\n",
      "Hello Islam! I am doing well, thank you for asking. How can I help you?\n",
      "==================================\u001b[1m Ai Message \u001b[0m==================================\n",
      "\n",
      "إزيك يا إسلام! أنا كويس، شكراً إنك سألت. أقدر أساعدك إزاي؟\n"
     ]
    }
   ],
   "source": [
    "from langchain_core.messages import HumanMessage\n",
    "\n",
    "user_message = HumanMessage(content=\"اذيك ياصحبي انا اسلام عامل اي\")\n",
    "\n",
    "stream = graph.stream(\n",
    "    {\"messages\": [user_message]},\n",
    "    config ={\"configurable\": {\"thread_id\": \"6\"}},\n",
    "    stream_mode=\"values\"  \n",
    ")\n",
    "\n",
    "for chunk in stream:\n",
    "    if \"messages\" in chunk:\n",
    "        for msg in chunk[\"messages\"]:\n",
    "            msg.pretty_print()\n"
   ]
  },
  {
   "cell_type": "code",
   "execution_count": 51,
   "id": "c8ae8d11",
   "metadata": {},
   "outputs": [
    {
     "name": "stderr",
     "output_type": "stream",
     "text": [
      "Retrying langchain_google_genai.chat_models._chat_with_retry.<locals>._chat_with_retry in 2.0 seconds as it raised ResourceExhausted: 429 You exceeded your current quota, please check your plan and billing details. For more information on this error, head to: https://ai.google.dev/gemini-api/docs/rate-limits. [violations {\n",
      "  quota_metric: \"generativelanguage.googleapis.com/generate_content_free_tier_requests\"\n",
      "  quota_id: \"GenerateRequestsPerMinutePerProjectPerModel-FreeTier\"\n",
      "  quota_dimensions {\n",
      "    key: \"model\"\n",
      "    value: \"gemini-2.5-flash\"\n",
      "  }\n",
      "  quota_dimensions {\n",
      "    key: \"location\"\n",
      "    value: \"global\"\n",
      "  }\n",
      "  quota_value: 10\n",
      "}\n",
      ", links {\n",
      "  description: \"Learn more about Gemini API quotas\"\n",
      "  url: \"https://ai.google.dev/gemini-api/docs/rate-limits\"\n",
      "}\n",
      ", retry_delay {\n",
      "  seconds: 21\n",
      "}\n",
      "].\n",
      "Retrying langchain_google_genai.chat_models._chat_with_retry.<locals>._chat_with_retry in 4.0 seconds as it raised ResourceExhausted: 429 You exceeded your current quota, please check your plan and billing details. For more information on this error, head to: https://ai.google.dev/gemini-api/docs/rate-limits. [violations {\n",
      "  quota_metric: \"generativelanguage.googleapis.com/generate_content_free_tier_requests\"\n",
      "  quota_id: \"GenerateRequestsPerMinutePerProjectPerModel-FreeTier\"\n",
      "  quota_dimensions {\n",
      "    key: \"model\"\n",
      "    value: \"gemini-2.5-flash\"\n",
      "  }\n",
      "  quota_dimensions {\n",
      "    key: \"location\"\n",
      "    value: \"global\"\n",
      "  }\n",
      "  quota_value: 10\n",
      "}\n",
      ", links {\n",
      "  description: \"Learn more about Gemini API quotas\"\n",
      "  url: \"https://ai.google.dev/gemini-api/docs/rate-limits\"\n",
      "}\n",
      ", retry_delay {\n",
      "  seconds: 18\n",
      "}\n",
      "].\n",
      "Retrying langchain_google_genai.chat_models._chat_with_retry.<locals>._chat_with_retry in 8.0 seconds as it raised ResourceExhausted: 429 You exceeded your current quota, please check your plan and billing details. For more information on this error, head to: https://ai.google.dev/gemini-api/docs/rate-limits. [violations {\n",
      "  quota_metric: \"generativelanguage.googleapis.com/generate_content_free_tier_requests\"\n",
      "  quota_id: \"GenerateRequestsPerMinutePerProjectPerModel-FreeTier\"\n",
      "  quota_dimensions {\n",
      "    key: \"model\"\n",
      "    value: \"gemini-2.5-flash\"\n",
      "  }\n",
      "  quota_dimensions {\n",
      "    key: \"location\"\n",
      "    value: \"global\"\n",
      "  }\n",
      "  quota_value: 10\n",
      "}\n",
      ", links {\n",
      "  description: \"Learn more about Gemini API quotas\"\n",
      "  url: \"https://ai.google.dev/gemini-api/docs/rate-limits\"\n",
      "}\n",
      ", retry_delay {\n",
      "  seconds: 14\n",
      "}\n",
      "].\n",
      "Retrying langchain_google_genai.chat_models._chat_with_retry.<locals>._chat_with_retry in 16.0 seconds as it raised ResourceExhausted: 429 You exceeded your current quota, please check your plan and billing details. For more information on this error, head to: https://ai.google.dev/gemini-api/docs/rate-limits. [violations {\n",
      "  quota_metric: \"generativelanguage.googleapis.com/generate_content_free_tier_requests\"\n",
      "  quota_id: \"GenerateRequestsPerMinutePerProjectPerModel-FreeTier\"\n",
      "  quota_dimensions {\n",
      "    key: \"model\"\n",
      "    value: \"gemini-2.5-flash\"\n",
      "  }\n",
      "  quota_dimensions {\n",
      "    key: \"location\"\n",
      "    value: \"global\"\n",
      "  }\n",
      "  quota_value: 10\n",
      "}\n",
      ", links {\n",
      "  description: \"Learn more about Gemini API quotas\"\n",
      "  url: \"https://ai.google.dev/gemini-api/docs/rate-limits\"\n",
      "}\n",
      ", retry_delay {\n",
      "  seconds: 6\n",
      "}\n",
      "].\n"
     ]
    },
    {
     "name": "stdout",
     "output_type": "stream",
     "text": [
      "==================================\u001b[1m Ai Message \u001b[0m==================================\n",
      "\n",
      "فك التشفير يعني اختيار كلمة لتوليدها تاليًا بناءً على احتمالات نموذج لغوي كبير للكلمات المحتملة والسياق الحالي.\n"
     ]
    }
   ],
   "source": [
    "output = graph.invoke( {\"messages\": [\n",
    "            HumanMessage(content=\" يعني اي decoding\") \n",
    "        ]} ,  config={\"configurable\": {\"thread_id\": \"6\"}})\n",
    "\n",
    "output['messages'][-1].pretty_print()"
   ]
  },
  {
   "cell_type": "code",
   "execution_count": 53,
   "id": "7ababcd9",
   "metadata": {},
   "outputs": [
    {
     "data": {
      "text/plain": [
       "{'messages': [AIMessage(content='فك التشفير يعني اختيار كلمة لتوليدها تاليًا بناءً على احتمالات نموذج لغوي كبير للكلمات المحتملة والسياق الحالي.', additional_kwargs={}, response_metadata={})],\n",
       " 'detected_lang': 'ar',\n",
       " 'dialect': 'MSA'}"
      ]
     },
     "execution_count": 53,
     "metadata": {},
     "output_type": "execute_result"
    }
   ],
   "source": [
    "output"
   ]
  },
  {
   "cell_type": "code",
   "execution_count": 38,
   "id": "51edcbea",
   "metadata": {},
   "outputs": [
    {
     "name": "stdout",
     "output_type": "stream",
     "text": [
      "==================================\u001b[1m Ai Message \u001b[0m==================================\n",
      "\n",
      "An encoder-decoder model is an architecture that typically consists of two main parts: an encoder and a decoder.\n",
      "\n",
      "The **encoder** is used to provide a contextualized representation of input words or tokens, mapping a sequence of input embeddings to output embeddings of the same length, where the output vectors incorporate information from the entire input sequence. Bidirectional encoders, for example, generate these contextualized representations.\n",
      "\n",
      "The **decoder** is a generative part that uses the contextualized representation provided by the encoder to produce running text by decoding or sampling. This architecture was developed for tasks like handwriting generation and machine translation.\n",
      "\n",
      "In contrast, \"encoder-only\" models (like masked language models) produce an encoding for each input token but are generally not used for text generation, focusing instead on interpretative tasks. \"Decoder-only\" models correspond to just the generative decoder part of this overall architecture.\n"
     ]
    }
   ],
   "source": [
    "output = graph.invoke( {\"messages\": [\n",
    "            HumanMessage(content=\"what is encoder decoder\") \n",
    "        ]} ,  config={\"configurable\": {\"thread_id\": \"6\"}})\n",
    "\n",
    "output['messages'][-1].pretty_print()"
   ]
  },
  {
   "cell_type": "code",
   "execution_count": null,
   "id": "4cadb85d",
   "metadata": {},
   "outputs": [],
   "source": []
  }
 ],
 "metadata": {
  "kernelspec": {
   "display_name": "chat",
   "language": "python",
   "name": "python3"
  },
  "language_info": {
   "codemirror_mode": {
    "name": "ipython",
    "version": 3
   },
   "file_extension": ".py",
   "mimetype": "text/x-python",
   "name": "python",
   "nbconvert_exporter": "python",
   "pygments_lexer": "ipython3",
   "version": "3.11.13"
  }
 },
 "nbformat": 4,
 "nbformat_minor": 5
}
